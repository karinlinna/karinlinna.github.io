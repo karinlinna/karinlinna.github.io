{
  "nbformat": 4,
  "nbformat_minor": 0,
  "metadata": {
    "colab": {
      "name": "欢迎使用 Colaboratory",
      "provenance": [],
      "collapsed_sections": [],
      "toc_visible": true,
      "include_colab_link": true
    },
    "kernelspec": {
      "display_name": "Python 3",
      "name": "python3"
    }
  },
  "cells": [
    {
      "cell_type": "markdown",
      "metadata": {
        "id": "view-in-github",
        "colab_type": "text"
      },
      "source": [
        "<a href=\"https://colab.research.google.com/github/karinlinna/karinlinna.github.io/blob/master/%E6%AC%A2%E8%BF%8E%E4%BD%BF%E7%94%A8_Colaboratory.ipynb\" target=\"_parent\"><img src=\"https://colab.research.google.com/assets/colab-badge.svg\" alt=\"Open In Colab\"/></a>"
      ]
    },
    {
      "cell_type": "code",
      "metadata": {
        "id": "eN3-DdTIn_y1",
        "outputId": "824380e8-ab42-4ce6-c0c2-7fa70bc4cc07",
        "colab": {
          "base_uri": "https://localhost:8080/"
        }
      },
      "source": [
        "import gensim\n",
        "\n",
        "w2v = gensim.models.Word2Vec.load('/content/glove/model/w2v_model_stemmed')\n",
        "print(w2v.wv.most_similar(['java']))"
      ],
      "execution_count": 3,
      "outputs": [
        {
          "output_type": "stream",
          "text": [
            "[('ceylon', 0.6485487222671509), ('clojur', 0.6253069639205933), ('scala', 0.6241986751556396), ('jave', 0.6139876842498779), ('java1', 0.6123961210250854), ('j2se', 0.6036878824234009), ('jre1', 0.6022396683692932), ('jse', 0.601651668548584), ('jdk_1', 0.5819762349128723), ('0_66', 0.577608585357666)]\n"
          ],
          "name": "stdout"
        }
      ]
    }
  ]
}